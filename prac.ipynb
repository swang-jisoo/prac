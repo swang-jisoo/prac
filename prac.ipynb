{
  "cells": [
    {
      "cell_type": "markdown",
      "metadata": {},
      "source": [
        "## 1. Introduction To The Dataset\n",
        "\n",
        "The dataset contains the following columns:\n",
        "\n",
        "- `year`: Year (1994 to 2003).\n",
        "- `month`: Month (1 to 12).\n",
        "- `date_of_month`: Day number of the month (1 to 31).\n",
        "- `day_of_week`: Day of week (1 to 7).\n",
        "- `births`: Number of births that day.\n",
        "\n",
        "First things first, let's read in the CSV file and explore it."
        ]
    }
  ]
}
