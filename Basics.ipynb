{
 "cells": [
  {
   "cell_type": "markdown",
   "metadata": {},
   "source": [
    "## 1. Introduction To The Dataset\n",
    "\n",
    "The dataset contains the following columns:\n",
    "\n",
    "- `year`: Year (1994 to 2003).\n",
    "- `month`: Month (1 to 12).\n",
    "- `date_of_month`: Day number of the month (1 to 31).\n",
    "- `day_of_week`: Day of week (1 to 7).\n",
    "- `births`: Number of births that day.\n",
    "\n",
    "First things first, let's read in the CSV file and explore it."
   ]
  },
  {
   "cell_type": "code",
   "execution_count": 5,
   "metadata": {
    "collapsed": false
   },
   "outputs": [],
   "source": [
    "f = open(\"US_births_1994-2003_CDC_NCHS.csv\",\"r\")\n",
    "text = f.read()\n",
    "rows = text.split(\"\\n\")\n",
    "#print(rows,10)"
   ]
  },
  {
   "cell_type": "markdown",
   "metadata": {},
   "source": [
    "## 2. Converting Data Into A List Of Lists\n",
    "\n",
    "While a list of strings helps us get a general picture of the dataset, we need to convert it to a more structured format to be able to analyze it. Specifically, we need to convert the dataset into a list of lists where each nested list contains integer values (not strings). We also need to remove the header row."
   ]
  },
  {
   "cell_type": "code",
   "execution_count": 13,
   "metadata": {
    "collapsed": false
   },
   "outputs": [],
   "source": [
    "def read_csv(filename):\n",
    "    f = open(filename, \"r\") # Open the file\n",
    "    text = f.read() # Read the file into a string\n",
    "    rows = text.split(\"\\n\") # Split the string on the newline character\n",
    "    string_list = rows[1:] # Remove the header row\n",
    "    final_list = []\n",
    "    for l in string_list:\n",
    "        int_fields = []\n",
    "        string_fields = l.split(\",\") # Split on comma\n",
    "        for s in string_fields: # Convert str into int\n",
    "            int_fields.append(int(s))\n",
    "        final_list.append(int_fields)\n",
    "    return(final_list)\n",
    "\n",
    "cdc_list = read_csv(\"US_births_1994-2003_CDC_NCHS.csv\")\n",
    "#print(cdc_list[:10])"
   ]
  },
  {
   "cell_type": "markdown",
   "metadata": {},
   "source": [
    "## 3. Calculating Number Of Births Each Month\n",
    "\n",
    "Now that the data is in a more usable format, we can start to analyze it. Let's calculate the total number of births that occured in each month, across all of the years in the dataset. We'll create a dictionary where each key is a unique month and each value is the number of births that happened in that month, across all years:"
   ]
  },
  {
   "cell_type": "code",
   "execution_count": 18,
   "metadata": {
    "collapsed": false
   },
   "outputs": [
    {
     "name": "stdout",
     "output_type": "stream",
     "text": [
      "{1: 3232517, 2: 3018140, 3: 3322069, 4: 3185314, 5: 3350907, 6: 3296530, 7: 3498783, 8: 3525858, 9: 3439698, 10: 3378814, 11: 3171647, 12: 3301860}\n"
     ]
    }
   ],
   "source": [
    "def month_births(input_lstlst):\n",
    "    births_per_month = {} # Store the monthly totals\n",
    "    for l in input_lstlst:\n",
    "        # If the month value already exists as a key in births_per_month, \n",
    "        # the births value is added to the existing value.\n",
    "        # Else, it's created and the associated value is the birth value.\n",
    "        if l[1] in births_per_month:\n",
    "            births_per_month[l[1]] += l[4]\n",
    "        else:\n",
    "            births_per_month[l[1]] = l[4]\n",
    "    return(births_per_month)\n",
    "\n",
    "cdc_month_births = month_births(cdc_list)\n",
    "print(cdc_month_births)"
   ]
  },
  {
   "cell_type": "markdown",
   "metadata": {},
   "source": [
    "## 4. Calculating Number Of Births Each Day Of Week\n",
    "\n",
    "Let's now create a function that calculates the total number of births for each unique day of the week. "
   ]
  },
  {
   "cell_type": "code",
   "execution_count": 15,
   "metadata": {
    "collapsed": false
   },
   "outputs": [
    {
     "name": "stdout",
     "output_type": "stream",
     "text": [
      "{1: 5789166, 2: 6446196, 3: 6322855, 4: 6288429, 5: 6233657, 6: 4562111, 7: 4079723}\n"
     ]
    }
   ],
   "source": [
    "def dow_births(input_lstlst):\n",
    "    births_per_dow = {}\n",
    "    for l in input_lstlst:\n",
    "        if l[3] in births_per_dow:\n",
    "            births_per_dow[l[3]] += l[4]\n",
    "        else:\n",
    "            births_per_dow[l[3]] = l[4]\n",
    "    return(births_per_dow)\n",
    "\n",
    "cdc_day_births = dow_births(cdc_list)\n",
    "print(cdc_day_births)"
   ]
  },
  {
   "cell_type": "markdown",
   "metadata": {},
   "source": [
    "## 5. Creating A More General Function\n",
    "\n",
    "You may have noticed that there was a lot of similarity between the two functions you just wrote. While we can also create separate functions to calculate the totals for the year and date_of_month columns, it's better to create a single function that works for any column and specify the column we want as a parameter each time we call the function."
   ]
  },
  {
   "cell_type": "code",
   "execution_count": 20,
   "metadata": {
    "collapsed": false
   },
   "outputs": [
    {
     "name": "stdout",
     "output_type": "stream",
     "text": [
      "{2000: 4058814, 2001: 4025933, 2002: 4021726, 2003: 4089950, 1994: 3952767, 1995: 3899589, 1996: 3891494, 1997: 3880894, 1998: 3941553, 1999: 3959417}\n",
      "{1: 3232517, 2: 3018140, 3: 3322069, 4: 3185314, 5: 3350907, 6: 3296530, 7: 3498783, 8: 3525858, 9: 3439698, 10: 3378814, 11: 3171647, 12: 3301860}\n",
      "{1: 1276557, 2: 1288739, 3: 1304499, 4: 1288154, 5: 1299953, 6: 1304474, 7: 1310459, 8: 1312297, 9: 1303292, 10: 1320764, 11: 1314361, 12: 1318437, 13: 1277684, 14: 1320153, 15: 1319171, 16: 1315192, 17: 1324953, 18: 1326855, 19: 1318727, 20: 1324821, 21: 1322897, 22: 1317381, 23: 1293290, 24: 1288083, 25: 1272116, 26: 1284796, 27: 1294395, 28: 1307685, 29: 1223161, 30: 1202095, 31: 746696}\n",
      "{1: 5789166, 2: 6446196, 3: 6322855, 4: 6288429, 5: 6233657, 6: 4562111, 7: 4079723}\n"
     ]
    }
   ],
   "source": [
    "def calc_counts(data, column):\n",
    "    total_dict = {}\n",
    "    for row in data:\n",
    "        if row[column] in total_dict:\n",
    "            total_dict[row[column]] += row[4]\n",
    "        else: \n",
    "            total_dict[row[column]] = row[4]\n",
    "    return(total_dict)\n",
    "\n",
    "# the yearly totals for the dataset\n",
    "cdc_year_births = calc_counts(cdc_list, 0)\n",
    "# the monthly totals for the dataset \n",
    "cdc_month_births = calc_counts(cdc_list, 1)\n",
    "# the day-of-month totals for the dataset \n",
    "cdc_dom_births = calc_counts(cdc_list, 2)\n",
    "# the day-of-week totals for the dataset\n",
    "cdc_dow_births = calc_counts(cdc_list, 3)\n",
    "\n",
    "print(cdc_year_births)\n",
    "print(cdc_month_births)\n",
    "print(cdc_dom_births)\n",
    "print(cdc_dow_births)"
   ]
  },
  {
   "cell_type": "markdown",
   "metadata": {},
   "source": [
    "## 6. Next Steps\n",
    "\n",
    "That's it for the guided steps. Here are some suggestions for next steps:\n",
    "\n",
    "- Write a function that can calculate the min and max values for any dictionary that's passed in.\n",
    "Write a function that extracts the same values across years and calculates the differences between consecutive values to show if number of births is increasing or decreasing.\n",
    "For example, how did the number of births on Saturday change each year between 1994 and 2003?\n",
    "Find a way to combine the CDC data with the SSA data, which you can find here. Specifically, brainstorm ways to deal with the overlapping time periods in the datasets."
   ]
  }
 ],
 "metadata": {
  "anaconda-cloud": {},
  "kernelspec": {
   "display_name": "Python 3",
   "language": "python",
   "name": "python3"
  },
  "language_info": {
   "codemirror_mode": {
    "name": "ipython",
    "version": 3
   },
   "file_extension": ".py",
   "mimetype": "text/x-python",
   "name": "python",
   "nbconvert_exporter": "python",
   "pygments_lexer": "ipython3",
   "version": "3.4.3"
  }
 },
 "nbformat": 4,
 "nbformat_minor": 1
}
